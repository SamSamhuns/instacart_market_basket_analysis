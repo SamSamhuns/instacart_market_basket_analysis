{
 "cells": [
  {
   "cell_type": "markdown",
   "metadata": {},
   "source": [
    "# Instacart market basket_analysis"
   ]
  },
  {
   "cell_type": "markdown",
   "metadata": {},
   "source": [
    "    The goal of a data scientist is to derive value from such unstructured data.  In this project, we use analyze over 3 million user grocery shopping orders from more than 200,000 anonymized Instacart users. The dataset used was sourced from Instacart's first public dataset release, “The Instacart Online Grocery Shopping Dataset 2017”, and acquired from Kaggle. Here we attempt to identify key patterns and granular details from this data that would be of use when making business and marketing decision. "
   ]
  },
  {
   "cell_type": "markdown",
   "metadata": {},
   "source": [
    "# Setup\n",
    "## Downloading Packages"
   ]
  },
  {
   "cell_type": "code",
   "execution_count": 2,
   "metadata": {},
   "outputs": [],
   "source": [
    "# To install the kaggle package in the notebook WARNING Installs System wide\n",
    "# Download API key from Kaggle from Accounts - Create New Api Token\n",
    "# Move the downloaded kaggle.json to ~/.kaggle/\n",
    "\n",
    "# import sys\n",
    "# !{sys.executable} -m pip install kaggle\n",
    "\n",
    "import os\n",
    "import numpy as np\n",
    "import pandas as pd\n",
    "import seaborn as sns\n",
    "import matplotlib.pyplot as plt\n",
    "from sklearn.neighbors import KNeighborsClassifier\n",
    "\n",
    "plt.style.use('seaborn-darkgrid')\n",
    "color = sns.color_palette()\n",
    "%matplotlib inline"
   ]
  },
  {
   "cell_type": "markdown",
   "metadata": {},
   "source": [
    "## Downloading Instacart data using the Kaggle API\n",
    "Unzipping and Cleaning CSV zip files"
   ]
  },
  {
   "cell_type": "code",
   "execution_count": 2,
   "metadata": {
    "scrolled": true
   },
   "outputs": [
    {
     "name": "stdout",
     "output_type": "stream",
     "text": [
      "Downloading departments.csv.zip to /Users/sam/Downloads/Data Bootcamp Project/instacart_market_basket_analysis\n",
      "  0%|                                                 | 0.00/804 [00:00<?, ?B/s]\n",
      "100%|███████████████████████████████████████████| 804/804 [00:00<00:00, 362kB/s]\n",
      "Downloading aisles.csv.zip to /Users/sam/Downloads/Data Bootcamp Project/instacart_market_basket_analysis\n",
      "  0%|                                               | 0.00/1.87k [00:00<?, ?B/s]\n",
      "100%|███████████████████████████████████████| 1.87k/1.87k [00:00<00:00, 578kB/s]\n",
      "Downloading order_products__train.csv.zip to /Users/sam/Downloads/Data Bootcamp Project/instacart_market_basket_analysis\n",
      "100%|██████████████████████████████████████| 6.90M/6.90M [00:00<00:00, 8.03MB/s]\n",
      "\n",
      "Downloading products.csv.zip to /Users/sam/Downloads/Data Bootcamp Project/instacart_market_basket_analysis\n",
      "100%|████████████████████████████████████████| 795k/795k [00:00<00:00, 7.88MB/s]\n",
      "\n",
      "Downloading orders.csv.zip to /Users/sam/Downloads/Data Bootcamp Project/instacart_market_basket_analysis\n",
      " 99%|█████████████████████████████████████▋| 31.0M/31.3M [00:04<00:00, 8.21MB/s]\n",
      "100%|██████████████████████████████████████| 31.3M/31.3M [00:04<00:00, 7.69MB/s]\n",
      "Downloading order_products__prior.csv.zip to /Users/sam/Downloads/Data Bootcamp Project/instacart_market_basket_analysis\n",
      "100%|███████████████████████████████████████▉| 157M/157M [00:21<00:00, 8.23MB/s]\n",
      "100%|████████████████████████████████████████| 157M/157M [00:21<00:00, 7.78MB/s]\n",
      "Downloading sample_submission.csv.zip to /Users/sam/Downloads/Data Bootcamp Project/instacart_market_basket_analysis\n",
      "  0%|                                                | 0.00/220k [00:00<?, ?B/s]\n",
      "100%|████████████████████████████████████████| 220k/220k [00:00<00:00, 10.5MB/s]\n",
      "Archive:  aisles.csv.zip\n",
      "  inflating: aisles.csv              \n",
      "   creating: __MACOSX/\n",
      "  inflating: __MACOSX/._aisles.csv   \n",
      "Archive:  departments.csv.zip\n",
      "  inflating: departments.csv         \n",
      "  inflating: __MACOSX/._departments.csv  \n",
      "Archive:  orders.csv.zip\n",
      "  inflating: orders.csv              \n",
      "  inflating: __MACOSX/._orders.csv   \n",
      "Archive:  products.csv.zip\n",
      "  inflating: products.csv            \n",
      "  inflating: __MACOSX/._products.csv  \n",
      "Archive:  order_products__prior.csv.zip\n",
      "  inflating: order_products__prior.csv  \n",
      "  inflating: __MACOSX/._order_products__prior.csv  \n",
      "Archive:  order_products__train.csv.zip\n",
      "  inflating: order_products__train.csv  \n",
      "  inflating: __MACOSX/._order_products__train.csv  \n",
      "Archive:  sample_submission.csv.zip\n",
      "  inflating: sample_submission.csv   \n"
     ]
    }
   ],
   "source": [
    "# Downloading CSV data, unzipping and moving to csv_src folder\n",
    "\n",
    "# After isntalling the kaggle module and setting kaggle.json api keys\n",
    "# Download the dataset from the Kaggle\n",
    "!kaggle competitions download -c instacart-market-basket-analysis\n",
    "\n",
    "# Custom shell script to unzip all files, remove zips and move csv into csv_src\n",
    "# The unzip_rm.sh script should be in the same directory as the python notebook file\n",
    "!chmod u+x unzip_rm.sh\n",
    "!./unzip_rm.sh"
   ]
  },
  {
   "cell_type": "markdown",
   "metadata": {},
   "source": [
    "## Loading CSV files into DataFrames"
   ]
  },
  {
   "cell_type": "code",
   "execution_count": 3,
   "metadata": {},
   "outputs": [],
   "source": [
    "# Reading all the datasets from the csv_src folder\n",
    "csv_folder = 'csv_src/'\n",
    "aisle = pd.read_csv( csv_folder+'aisles.csv')\n",
    "orders = pd.read_csv(csv_folder+'orders.csv')\n",
    "products = pd.read_csv(csv_folder+'products.csv')\n",
    "departments = pd.read_csv( csv_folder+'departments.csv')\n",
    "order_prior = pd.read_csv(csv_folder+'order_products__prior.csv') \n",
    "order_train = pd.read_csv(csv_folder+'order_products__train.csv')"
   ]
  },
  {
   "cell_type": "markdown",
   "metadata": {},
   "source": [
    "## Setting the ids as index\n",
    "#### Setting NAs to zeros"
   ]
  },
  {
   "cell_type": "code",
   "execution_count": 4,
   "metadata": {},
   "outputs": [],
   "source": [
    "# Setting the correct indexes for the data sets\n",
    "\n",
    "orders.set_index('order_id', inplace=True)\n",
    "products.set_index('product_id', inplace=True)\n",
    "aisle.set_index('aisle_id', inplace=True)\n",
    "departments.set_index('department_id', inplace=True)\n",
    "orders = orders.fillna(0) # Setting the NaNs to 0. i.e. sets the days since order to 0 for 1st orders"
   ]
  },
  {
   "cell_type": "markdown",
   "metadata": {},
   "source": [
    "## Taking a look at all available data"
   ]
  },
  {
   "cell_type": "code",
   "execution_count": 5,
   "metadata": {},
   "outputs": [
    {
     "data": {
      "text/html": [
       "<div>\n",
       "<style scoped>\n",
       "    .dataframe tbody tr th:only-of-type {\n",
       "        vertical-align: middle;\n",
       "    }\n",
       "\n",
       "    .dataframe tbody tr th {\n",
       "        vertical-align: top;\n",
       "    }\n",
       "\n",
       "    .dataframe thead th {\n",
       "        text-align: right;\n",
       "    }\n",
       "</style>\n",
       "<table border=\"1\" class=\"dataframe\">\n",
       "  <thead>\n",
       "    <tr style=\"text-align: right;\">\n",
       "      <th></th>\n",
       "      <th>user_id</th>\n",
       "      <th>eval_set</th>\n",
       "      <th>order_number</th>\n",
       "      <th>order_dow</th>\n",
       "      <th>order_hour_of_day</th>\n",
       "      <th>days_since_prior_order</th>\n",
       "    </tr>\n",
       "    <tr>\n",
       "      <th>order_id</th>\n",
       "      <th></th>\n",
       "      <th></th>\n",
       "      <th></th>\n",
       "      <th></th>\n",
       "      <th></th>\n",
       "      <th></th>\n",
       "    </tr>\n",
       "  </thead>\n",
       "  <tbody>\n",
       "    <tr>\n",
       "      <th>2539329</th>\n",
       "      <td>1</td>\n",
       "      <td>prior</td>\n",
       "      <td>1</td>\n",
       "      <td>2</td>\n",
       "      <td>8</td>\n",
       "      <td>0.0</td>\n",
       "    </tr>\n",
       "    <tr>\n",
       "      <th>2398795</th>\n",
       "      <td>1</td>\n",
       "      <td>prior</td>\n",
       "      <td>2</td>\n",
       "      <td>3</td>\n",
       "      <td>7</td>\n",
       "      <td>15.0</td>\n",
       "    </tr>\n",
       "    <tr>\n",
       "      <th>473747</th>\n",
       "      <td>1</td>\n",
       "      <td>prior</td>\n",
       "      <td>3</td>\n",
       "      <td>3</td>\n",
       "      <td>12</td>\n",
       "      <td>21.0</td>\n",
       "    </tr>\n",
       "    <tr>\n",
       "      <th>2254736</th>\n",
       "      <td>1</td>\n",
       "      <td>prior</td>\n",
       "      <td>4</td>\n",
       "      <td>4</td>\n",
       "      <td>7</td>\n",
       "      <td>29.0</td>\n",
       "    </tr>\n",
       "    <tr>\n",
       "      <th>431534</th>\n",
       "      <td>1</td>\n",
       "      <td>prior</td>\n",
       "      <td>5</td>\n",
       "      <td>4</td>\n",
       "      <td>15</td>\n",
       "      <td>28.0</td>\n",
       "    </tr>\n",
       "  </tbody>\n",
       "</table>\n",
       "</div>"
      ],
      "text/plain": [
       "          user_id eval_set  order_number  order_dow  order_hour_of_day  \\\n",
       "order_id                                                                 \n",
       "2539329         1    prior             1          2                  8   \n",
       "2398795         1    prior             2          3                  7   \n",
       "473747          1    prior             3          3                 12   \n",
       "2254736         1    prior             4          4                  7   \n",
       "431534          1    prior             5          4                 15   \n",
       "\n",
       "          days_since_prior_order  \n",
       "order_id                          \n",
       "2539329                      0.0  \n",
       "2398795                     15.0  \n",
       "473747                      21.0  \n",
       "2254736                     29.0  \n",
       "431534                      28.0  "
      ]
     },
     "execution_count": 5,
     "metadata": {},
     "output_type": "execute_result"
    }
   ],
   "source": [
    "orders.head()"
   ]
  },
  {
   "cell_type": "code",
   "execution_count": 6,
   "metadata": {},
   "outputs": [
    {
     "data": {
      "text/html": [
       "<div>\n",
       "<style scoped>\n",
       "    .dataframe tbody tr th:only-of-type {\n",
       "        vertical-align: middle;\n",
       "    }\n",
       "\n",
       "    .dataframe tbody tr th {\n",
       "        vertical-align: top;\n",
       "    }\n",
       "\n",
       "    .dataframe thead th {\n",
       "        text-align: right;\n",
       "    }\n",
       "</style>\n",
       "<table border=\"1\" class=\"dataframe\">\n",
       "  <thead>\n",
       "    <tr style=\"text-align: right;\">\n",
       "      <th></th>\n",
       "      <th>product_name</th>\n",
       "      <th>aisle_id</th>\n",
       "      <th>department_id</th>\n",
       "    </tr>\n",
       "    <tr>\n",
       "      <th>product_id</th>\n",
       "      <th></th>\n",
       "      <th></th>\n",
       "      <th></th>\n",
       "    </tr>\n",
       "  </thead>\n",
       "  <tbody>\n",
       "    <tr>\n",
       "      <th>1</th>\n",
       "      <td>Chocolate Sandwich Cookies</td>\n",
       "      <td>61</td>\n",
       "      <td>19</td>\n",
       "    </tr>\n",
       "    <tr>\n",
       "      <th>2</th>\n",
       "      <td>All-Seasons Salt</td>\n",
       "      <td>104</td>\n",
       "      <td>13</td>\n",
       "    </tr>\n",
       "    <tr>\n",
       "      <th>3</th>\n",
       "      <td>Robust Golden Unsweetened Oolong Tea</td>\n",
       "      <td>94</td>\n",
       "      <td>7</td>\n",
       "    </tr>\n",
       "    <tr>\n",
       "      <th>4</th>\n",
       "      <td>Smart Ones Classic Favorites Mini Rigatoni Wit...</td>\n",
       "      <td>38</td>\n",
       "      <td>1</td>\n",
       "    </tr>\n",
       "    <tr>\n",
       "      <th>5</th>\n",
       "      <td>Green Chile Anytime Sauce</td>\n",
       "      <td>5</td>\n",
       "      <td>13</td>\n",
       "    </tr>\n",
       "  </tbody>\n",
       "</table>\n",
       "</div>"
      ],
      "text/plain": [
       "                                                 product_name  aisle_id  \\\n",
       "product_id                                                                \n",
       "1                                  Chocolate Sandwich Cookies        61   \n",
       "2                                            All-Seasons Salt       104   \n",
       "3                        Robust Golden Unsweetened Oolong Tea        94   \n",
       "4           Smart Ones Classic Favorites Mini Rigatoni Wit...        38   \n",
       "5                                   Green Chile Anytime Sauce         5   \n",
       "\n",
       "            department_id  \n",
       "product_id                 \n",
       "1                      19  \n",
       "2                      13  \n",
       "3                       7  \n",
       "4                       1  \n",
       "5                      13  "
      ]
     },
     "execution_count": 6,
     "metadata": {},
     "output_type": "execute_result"
    }
   ],
   "source": [
    "products.head()"
   ]
  },
  {
   "cell_type": "code",
   "execution_count": 7,
   "metadata": {},
   "outputs": [
    {
     "data": {
      "text/html": [
       "<div>\n",
       "<style scoped>\n",
       "    .dataframe tbody tr th:only-of-type {\n",
       "        vertical-align: middle;\n",
       "    }\n",
       "\n",
       "    .dataframe tbody tr th {\n",
       "        vertical-align: top;\n",
       "    }\n",
       "\n",
       "    .dataframe thead th {\n",
       "        text-align: right;\n",
       "    }\n",
       "</style>\n",
       "<table border=\"1\" class=\"dataframe\">\n",
       "  <thead>\n",
       "    <tr style=\"text-align: right;\">\n",
       "      <th></th>\n",
       "      <th>department</th>\n",
       "    </tr>\n",
       "    <tr>\n",
       "      <th>department_id</th>\n",
       "      <th></th>\n",
       "    </tr>\n",
       "  </thead>\n",
       "  <tbody>\n",
       "    <tr>\n",
       "      <th>1</th>\n",
       "      <td>frozen</td>\n",
       "    </tr>\n",
       "    <tr>\n",
       "      <th>2</th>\n",
       "      <td>other</td>\n",
       "    </tr>\n",
       "    <tr>\n",
       "      <th>3</th>\n",
       "      <td>bakery</td>\n",
       "    </tr>\n",
       "    <tr>\n",
       "      <th>4</th>\n",
       "      <td>produce</td>\n",
       "    </tr>\n",
       "    <tr>\n",
       "      <th>5</th>\n",
       "      <td>alcohol</td>\n",
       "    </tr>\n",
       "  </tbody>\n",
       "</table>\n",
       "</div>"
      ],
      "text/plain": [
       "              department\n",
       "department_id           \n",
       "1                 frozen\n",
       "2                  other\n",
       "3                 bakery\n",
       "4                produce\n",
       "5                alcohol"
      ]
     },
     "execution_count": 7,
     "metadata": {},
     "output_type": "execute_result"
    }
   ],
   "source": [
    "departments.head()"
   ]
  },
  {
   "cell_type": "code",
   "execution_count": 8,
   "metadata": {},
   "outputs": [
    {
     "data": {
      "text/html": [
       "<div>\n",
       "<style scoped>\n",
       "    .dataframe tbody tr th:only-of-type {\n",
       "        vertical-align: middle;\n",
       "    }\n",
       "\n",
       "    .dataframe tbody tr th {\n",
       "        vertical-align: top;\n",
       "    }\n",
       "\n",
       "    .dataframe thead th {\n",
       "        text-align: right;\n",
       "    }\n",
       "</style>\n",
       "<table border=\"1\" class=\"dataframe\">\n",
       "  <thead>\n",
       "    <tr style=\"text-align: right;\">\n",
       "      <th></th>\n",
       "      <th>aisle</th>\n",
       "    </tr>\n",
       "    <tr>\n",
       "      <th>aisle_id</th>\n",
       "      <th></th>\n",
       "    </tr>\n",
       "  </thead>\n",
       "  <tbody>\n",
       "    <tr>\n",
       "      <th>1</th>\n",
       "      <td>prepared soups salads</td>\n",
       "    </tr>\n",
       "    <tr>\n",
       "      <th>2</th>\n",
       "      <td>specialty cheeses</td>\n",
       "    </tr>\n",
       "    <tr>\n",
       "      <th>3</th>\n",
       "      <td>energy granola bars</td>\n",
       "    </tr>\n",
       "    <tr>\n",
       "      <th>4</th>\n",
       "      <td>instant foods</td>\n",
       "    </tr>\n",
       "    <tr>\n",
       "      <th>5</th>\n",
       "      <td>marinades meat preparation</td>\n",
       "    </tr>\n",
       "  </tbody>\n",
       "</table>\n",
       "</div>"
      ],
      "text/plain": [
       "                               aisle\n",
       "aisle_id                            \n",
       "1              prepared soups salads\n",
       "2                  specialty cheeses\n",
       "3                energy granola bars\n",
       "4                      instant foods\n",
       "5         marinades meat preparation"
      ]
     },
     "execution_count": 8,
     "metadata": {},
     "output_type": "execute_result"
    }
   ],
   "source": [
    "aisle.head()"
   ]
  },
  {
   "cell_type": "code",
   "execution_count": 9,
   "metadata": {},
   "outputs": [
    {
     "data": {
      "text/html": [
       "<div>\n",
       "<style scoped>\n",
       "    .dataframe tbody tr th:only-of-type {\n",
       "        vertical-align: middle;\n",
       "    }\n",
       "\n",
       "    .dataframe tbody tr th {\n",
       "        vertical-align: top;\n",
       "    }\n",
       "\n",
       "    .dataframe thead th {\n",
       "        text-align: right;\n",
       "    }\n",
       "</style>\n",
       "<table border=\"1\" class=\"dataframe\">\n",
       "  <thead>\n",
       "    <tr style=\"text-align: right;\">\n",
       "      <th></th>\n",
       "      <th>order_id</th>\n",
       "      <th>product_id</th>\n",
       "      <th>add_to_cart_order</th>\n",
       "      <th>reordered</th>\n",
       "    </tr>\n",
       "  </thead>\n",
       "  <tbody>\n",
       "    <tr>\n",
       "      <th>0</th>\n",
       "      <td>2</td>\n",
       "      <td>33120</td>\n",
       "      <td>1</td>\n",
       "      <td>1</td>\n",
       "    </tr>\n",
       "    <tr>\n",
       "      <th>1</th>\n",
       "      <td>2</td>\n",
       "      <td>28985</td>\n",
       "      <td>2</td>\n",
       "      <td>1</td>\n",
       "    </tr>\n",
       "    <tr>\n",
       "      <th>2</th>\n",
       "      <td>2</td>\n",
       "      <td>9327</td>\n",
       "      <td>3</td>\n",
       "      <td>0</td>\n",
       "    </tr>\n",
       "    <tr>\n",
       "      <th>3</th>\n",
       "      <td>2</td>\n",
       "      <td>45918</td>\n",
       "      <td>4</td>\n",
       "      <td>1</td>\n",
       "    </tr>\n",
       "    <tr>\n",
       "      <th>4</th>\n",
       "      <td>2</td>\n",
       "      <td>30035</td>\n",
       "      <td>5</td>\n",
       "      <td>0</td>\n",
       "    </tr>\n",
       "  </tbody>\n",
       "</table>\n",
       "</div>"
      ],
      "text/plain": [
       "   order_id  product_id  add_to_cart_order  reordered\n",
       "0         2       33120                  1          1\n",
       "1         2       28985                  2          1\n",
       "2         2        9327                  3          0\n",
       "3         2       45918                  4          1\n",
       "4         2       30035                  5          0"
      ]
     },
     "execution_count": 9,
     "metadata": {},
     "output_type": "execute_result"
    }
   ],
   "source": [
    "order_prior.head()"
   ]
  },
  {
   "cell_type": "code",
   "execution_count": 10,
   "metadata": {},
   "outputs": [
    {
     "data": {
      "text/html": [
       "<div>\n",
       "<style scoped>\n",
       "    .dataframe tbody tr th:only-of-type {\n",
       "        vertical-align: middle;\n",
       "    }\n",
       "\n",
       "    .dataframe tbody tr th {\n",
       "        vertical-align: top;\n",
       "    }\n",
       "\n",
       "    .dataframe thead th {\n",
       "        text-align: right;\n",
       "    }\n",
       "</style>\n",
       "<table border=\"1\" class=\"dataframe\">\n",
       "  <thead>\n",
       "    <tr style=\"text-align: right;\">\n",
       "      <th></th>\n",
       "      <th>order_id</th>\n",
       "      <th>product_id</th>\n",
       "      <th>add_to_cart_order</th>\n",
       "      <th>reordered</th>\n",
       "    </tr>\n",
       "  </thead>\n",
       "  <tbody>\n",
       "    <tr>\n",
       "      <th>0</th>\n",
       "      <td>1</td>\n",
       "      <td>49302</td>\n",
       "      <td>1</td>\n",
       "      <td>1</td>\n",
       "    </tr>\n",
       "    <tr>\n",
       "      <th>1</th>\n",
       "      <td>1</td>\n",
       "      <td>11109</td>\n",
       "      <td>2</td>\n",
       "      <td>1</td>\n",
       "    </tr>\n",
       "    <tr>\n",
       "      <th>2</th>\n",
       "      <td>1</td>\n",
       "      <td>10246</td>\n",
       "      <td>3</td>\n",
       "      <td>0</td>\n",
       "    </tr>\n",
       "    <tr>\n",
       "      <th>3</th>\n",
       "      <td>1</td>\n",
       "      <td>49683</td>\n",
       "      <td>4</td>\n",
       "      <td>0</td>\n",
       "    </tr>\n",
       "    <tr>\n",
       "      <th>4</th>\n",
       "      <td>1</td>\n",
       "      <td>43633</td>\n",
       "      <td>5</td>\n",
       "      <td>1</td>\n",
       "    </tr>\n",
       "  </tbody>\n",
       "</table>\n",
       "</div>"
      ],
      "text/plain": [
       "   order_id  product_id  add_to_cart_order  reordered\n",
       "0         1       49302                  1          1\n",
       "1         1       11109                  2          1\n",
       "2         1       10246                  3          0\n",
       "3         1       49683                  4          0\n",
       "4         1       43633                  5          1"
      ]
     },
     "execution_count": 10,
     "metadata": {},
     "output_type": "execute_result"
    }
   ],
   "source": [
    "order_train.head()"
   ]
  },
  {
   "cell_type": "code",
   "execution_count": 11,
   "metadata": {},
   "outputs": [
    {
     "name": "stdout",
     "output_type": "stream",
     "text": [
      "(134, 1) (49688, 3) (21, 1) (1384617, 4) (32434489, 4) (3421083, 6)\n"
     ]
    }
   ],
   "source": [
    "print(aisle.shape, products.shape, departments.shape, order_train.shape, order_prior.shape, orders.shape)"
   ]
  },
  {
   "cell_type": "markdown",
   "metadata": {},
   "source": [
    "## Joining the products dframe with departments and aisle dframes"
   ]
  },
  {
   "cell_type": "code",
   "execution_count": 12,
   "metadata": {},
   "outputs": [],
   "source": [
    "# Doing inner joins on the products and the departments and the aisle by the department_id and aisle_id respectively\n",
    "product_comb = products.reset_index().set_index('department_id').join(departments, how=\"inner\")\n",
    "product_comb = product_comb.reset_index().set_index('aisle_id').join(aisle, how=\"inner\")"
   ]
  },
  {
   "cell_type": "code",
   "execution_count": 13,
   "metadata": {},
   "outputs": [],
   "source": [
    "# Setting the index to 'product_id' and sorting it\n",
    "product_comb = product_comb.reset_index().set_index('product_id')\n",
    "product_comb.sort_index(axis=0, ascending=True, kind='quicksort', inplace=True)"
   ]
  },
  {
   "cell_type": "code",
   "execution_count": 14,
   "metadata": {},
   "outputs": [
    {
     "data": {
      "text/html": [
       "<div>\n",
       "<style scoped>\n",
       "    .dataframe tbody tr th:only-of-type {\n",
       "        vertical-align: middle;\n",
       "    }\n",
       "\n",
       "    .dataframe tbody tr th {\n",
       "        vertical-align: top;\n",
       "    }\n",
       "\n",
       "    .dataframe thead th {\n",
       "        text-align: right;\n",
       "    }\n",
       "</style>\n",
       "<table border=\"1\" class=\"dataframe\">\n",
       "  <thead>\n",
       "    <tr style=\"text-align: right;\">\n",
       "      <th></th>\n",
       "      <th>aisle_id</th>\n",
       "      <th>department_id</th>\n",
       "      <th>product_name</th>\n",
       "      <th>department</th>\n",
       "      <th>aisle</th>\n",
       "    </tr>\n",
       "    <tr>\n",
       "      <th>product_id</th>\n",
       "      <th></th>\n",
       "      <th></th>\n",
       "      <th></th>\n",
       "      <th></th>\n",
       "      <th></th>\n",
       "    </tr>\n",
       "  </thead>\n",
       "  <tbody>\n",
       "    <tr>\n",
       "      <th>1</th>\n",
       "      <td>61</td>\n",
       "      <td>19</td>\n",
       "      <td>Chocolate Sandwich Cookies</td>\n",
       "      <td>snacks</td>\n",
       "      <td>cookies cakes</td>\n",
       "    </tr>\n",
       "    <tr>\n",
       "      <th>2</th>\n",
       "      <td>104</td>\n",
       "      <td>13</td>\n",
       "      <td>All-Seasons Salt</td>\n",
       "      <td>pantry</td>\n",
       "      <td>spices seasonings</td>\n",
       "    </tr>\n",
       "    <tr>\n",
       "      <th>3</th>\n",
       "      <td>94</td>\n",
       "      <td>7</td>\n",
       "      <td>Robust Golden Unsweetened Oolong Tea</td>\n",
       "      <td>beverages</td>\n",
       "      <td>tea</td>\n",
       "    </tr>\n",
       "    <tr>\n",
       "      <th>4</th>\n",
       "      <td>38</td>\n",
       "      <td>1</td>\n",
       "      <td>Smart Ones Classic Favorites Mini Rigatoni Wit...</td>\n",
       "      <td>frozen</td>\n",
       "      <td>frozen meals</td>\n",
       "    </tr>\n",
       "    <tr>\n",
       "      <th>5</th>\n",
       "      <td>5</td>\n",
       "      <td>13</td>\n",
       "      <td>Green Chile Anytime Sauce</td>\n",
       "      <td>pantry</td>\n",
       "      <td>marinades meat preparation</td>\n",
       "    </tr>\n",
       "  </tbody>\n",
       "</table>\n",
       "</div>"
      ],
      "text/plain": [
       "            aisle_id  department_id  \\\n",
       "product_id                            \n",
       "1                 61             19   \n",
       "2                104             13   \n",
       "3                 94              7   \n",
       "4                 38              1   \n",
       "5                  5             13   \n",
       "\n",
       "                                                 product_name department  \\\n",
       "product_id                                                                 \n",
       "1                                  Chocolate Sandwich Cookies     snacks   \n",
       "2                                            All-Seasons Salt     pantry   \n",
       "3                        Robust Golden Unsweetened Oolong Tea  beverages   \n",
       "4           Smart Ones Classic Favorites Mini Rigatoni Wit...     frozen   \n",
       "5                                   Green Chile Anytime Sauce     pantry   \n",
       "\n",
       "                                 aisle  \n",
       "product_id                              \n",
       "1                        cookies cakes  \n",
       "2                    spices seasonings  \n",
       "3                                  tea  \n",
       "4                         frozen meals  \n",
       "5           marinades meat preparation  "
      ]
     },
     "execution_count": 14,
     "metadata": {},
     "output_type": "execute_result"
    }
   ],
   "source": [
    "product_comb.head()"
   ]
  },
  {
   "cell_type": "markdown",
   "metadata": {},
   "source": [
    "## Functions to generate seaborn hist count and matplotlib bar plots"
   ]
  },
  {
   "cell_type": "code",
   "execution_count": 23,
   "metadata": {},
   "outputs": [],
   "source": [
    "def hist_count_plots(dframe, x_axis, _title, _xlabel, _ylabel, color_index, fig_size=(15,8), title_size=18):\n",
    "   \n",
    "    plt.figure(figsize=fig_size)\n",
    "    sns.countplot(x=x_axis, data=dframe, color=color[color_index])\n",
    "    plt.title(_title, fontsize=title_size)\n",
    "    plt.xlabel(_xlabel, fontsize=13)\n",
    "    plt.ylabel(_ylabel, fontsize=13)\n",
    "    \n",
    "    if x_axis == \"order_dow\":\n",
    "        plt.xticks( [0,1,2,3,4,5,6],[\"Saturday\", \"Sunday\", \"Monday\", \"Tuesday\", \"Wednesday\", \"Thursday\", \"Friday\"] )\n",
    "    plt.show()   \n",
    "\n",
    "def bar_plot(dframe, _xlabel, _ylabel, _title, fig_size=(18,8), title_size=18):\n",
    "    dframe.plot(kind='bar', figsize=fig_size)\n",
    "    plt.xlabel(_xlabel, fontsize=14)\n",
    "    plt.ylabel(_ylabel, fontsize=14)\n",
    "    plt.title(_title, fontsize=title_size)"
   ]
  },
  {
   "cell_type": "code",
   "execution_count": 27,
   "metadata": {
    "scrolled": false
   },
   "outputs": [
    {
     "data": {
      "image/png": "[encoded data removed]",
      "text/plain": [
       "<Figure size 720x576 with 1 Axes>"
      ]
     },
     "metadata": {},
     "output_type": "display_data"
    }
   ],
   "source": [
    "hist_count_plots(orders.iloc[:1000000,:], 'user_id', 'user id counts', \"users\", \"number of orders\", 2)"
   ]
  },
  {
   "cell_type": "markdown",
   "metadata": {},
   "source": [
    "## Generating a dframe with total order counts for each user"
   ]
  },
  {
   "cell_type": "code",
   "execution_count": 33,
   "metadata": {},
   "outputs": [
    {
     "data": {
      "text/html": [
       "<div>\n",
       "<style scoped>\n",
       "    .dataframe tbody tr th:only-of-type {\n",
       "        vertical-align: middle;\n",
       "    }\n",
       "\n",
       "    .dataframe tbody tr th {\n",
       "        vertical-align: top;\n",
       "    }\n",
       "\n",
       "    .dataframe thead th {\n",
       "        text-align: right;\n",
       "    }\n",
       "</style>\n",
       "<table border=\"1\" class=\"dataframe\">\n",
       "  <thead>\n",
       "    <tr style=\"text-align: right;\">\n",
       "      <th></th>\n",
       "      <th>Order_count</th>\n",
       "    </tr>\n",
       "    <tr>\n",
       "      <th>user_id</th>\n",
       "      <th></th>\n",
       "    </tr>\n",
       "  </thead>\n",
       "  <tbody>\n",
       "    <tr>\n",
       "      <th>1</th>\n",
       "      <td>11</td>\n",
       "    </tr>\n",
       "    <tr>\n",
       "      <th>2</th>\n",
       "      <td>15</td>\n",
       "    </tr>\n",
       "    <tr>\n",
       "      <th>3</th>\n",
       "      <td>13</td>\n",
       "    </tr>\n",
       "    <tr>\n",
       "      <th>4</th>\n",
       "      <td>6</td>\n",
       "    </tr>\n",
       "    <tr>\n",
       "      <th>5</th>\n",
       "      <td>5</td>\n",
       "    </tr>\n",
       "  </tbody>\n",
       "</table>\n",
       "</div>"
      ],
      "text/plain": [
       "         Order_count\n",
       "user_id             \n",
       "1                 11\n",
       "2                 15\n",
       "3                 13\n",
       "4                  6\n",
       "5                  5"
      ]
     },
     "execution_count": 33,
     "metadata": {},
     "output_type": "execute_result"
    }
   ],
   "source": [
    "user_order_count_df = orders.groupby('user_id').user_id.count()\n",
    "user_order_count_df.describe()\n",
    "user_order_count_df = user_order_count_df.to_frame()\n",
    "user_order_count_df = user_order_count_df.rename(columns={'user_id': 'Order_count'})\n",
    "user_order_count_df.head()"
   ]
  },
  {
   "cell_type": "markdown",
   "metadata": {},
   "source": [
    "## Descriptive Statistics on the number of orders by each user"
   ]
  },
  {
   "cell_type": "code",
   "execution_count": 34,
   "metadata": {},
   "outputs": [
    {
     "data": {
      "text/html": [
       "<div>\n",
       "<style scoped>\n",
       "    .dataframe tbody tr th:only-of-type {\n",
       "        vertical-align: middle;\n",
       "    }\n",
       "\n",
       "    .dataframe tbody tr th {\n",
       "        vertical-align: top;\n",
       "    }\n",
       "\n",
       "    .dataframe thead th {\n",
       "        text-align: right;\n",
       "    }\n",
       "</style>\n",
       "<table border=\"1\" class=\"dataframe\">\n",
       "  <thead>\n",
       "    <tr style=\"text-align: right;\">\n",
       "      <th></th>\n",
       "      <th>Order_count</th>\n",
       "    </tr>\n",
       "  </thead>\n",
       "  <tbody>\n",
       "    <tr>\n",
       "      <th>count</th>\n",
       "      <td>206209.000000</td>\n",
       "    </tr>\n",
       "    <tr>\n",
       "      <th>mean</th>\n",
       "      <td>16.590367</td>\n",
       "    </tr>\n",
       "    <tr>\n",
       "      <th>std</th>\n",
       "      <td>16.654774</td>\n",
       "    </tr>\n",
       "    <tr>\n",
       "      <th>min</th>\n",
       "      <td>4.000000</td>\n",
       "    </tr>\n",
       "    <tr>\n",
       "      <th>25%</th>\n",
       "      <td>6.000000</td>\n",
       "    </tr>\n",
       "    <tr>\n",
       "      <th>50%</th>\n",
       "      <td>10.000000</td>\n",
       "    </tr>\n",
       "    <tr>\n",
       "      <th>75%</th>\n",
       "      <td>20.000000</td>\n",
       "    </tr>\n",
       "    <tr>\n",
       "      <th>max</th>\n",
       "      <td>100.000000</td>\n",
       "    </tr>\n",
       "  </tbody>\n",
       "</table>\n",
       "</div>"
      ],
      "text/plain": [
       "         Order_count\n",
       "count  206209.000000\n",
       "mean       16.590367\n",
       "std        16.654774\n",
       "min         4.000000\n",
       "25%         6.000000\n",
       "50%        10.000000\n",
       "75%        20.000000\n",
       "max       100.000000"
      ]
     },
     "execution_count": 34,
     "metadata": {},
     "output_type": "execute_result"
    }
   ],
   "source": [
    "user_order_count_df.describe()"
   ]
  },
  {
   "cell_type": "code",
   "execution_count": 29,
   "metadata": {
    "scrolled": false
   },
   "outputs": [
    {
     "data": {
      "image/png": "[encoded data removed]",
      "text/plain": [
       "<Figure size 1800x936 with 1 Axes>"
      ]
     },
     "metadata": {},
     "output_type": "display_data"
    }
   ],
   "source": [
    "hist_count_plots(user_order_count_df ,\"Order_count\", \"Frequency of Orders for each User\",\n",
    "                 \"Number of Orders\", \"Number of Users\", 2, fig_size=(25,13), title_size=35 )"
   ]
  },
  {
   "cell_type": "markdown",
   "metadata": {},
   "source": [
    "## Looking at Order Frequency by the hour of the day"
   ]
  },
  {
   "cell_type": "code",
   "execution_count": 30,
   "metadata": {},
   "outputs": [
    {
     "data": {
      "image/png": "[encoded data removed]",
      "text/plain": [
       "<Figure size 1080x576 with 1 Axes>"
      ]
     },
     "metadata": {},
     "output_type": "display_data"
    }
   ],
   "source": [
    "hist_count_plots(orders ,\"order_hour_of_day\", \"Frequency of Orders by Hour of the Day\",\n",
    "                 \"Hour of the Day  (24 hr format)\", \"Number of Orders\", 2)"
   ]
  },
  {
   "cell_type": "markdown",
   "metadata": {},
   "source": [
    "## Looking at Order Frequency by the days of the Week"
   ]
  },
  {
   "cell_type": "code",
   "execution_count": 31,
   "metadata": {},
   "outputs": [
    {
     "data": {
      "image/png": "[encoded data removed]",
      "text/plain": [
       "<Figure size 1080x576 with 1 Axes>"
      ]
     },
     "metadata": {},
     "output_type": "display_data"
    }
   ],
   "source": [
    "hist_count_plots(orders, \"order_dow\", \"Frequency of Orders by Days of the Week\",\n",
    "                 \"Days of the Week\", \"Number of Orders\", 4)"
   ]
  },
  {
   "cell_type": "markdown",
   "metadata": {},
   "source": [
    "## Continuous bivariate density of orders between day of the week and hour of the day"
   ]
  },
  {
   "cell_type": "code",
   "execution_count": 123,
   "metadata": {},
   "outputs": [
    {
     "data": {
      "image/png": "[encoded data removed]",
      "text/plain": [
       "<Figure size 432x432 with 1 Axes>"
      ]
     },
     "metadata": {},
     "output_type": "display_data"
    }
   ],
   "source": [
    "# using a small sample for kernel density axes \n",
    "smallset = orders[0:100000]\n",
    "\n",
    "f, ax = plt.subplots(figsize=(6, 6))\n",
    "cmap = sns.cubehelix_palette(as_cmap=True, dark=0, light=1, reverse=True)\n",
    "sns.kdeplot(smallset.order_hour_of_day, smallset.order_dow, cmap=cmap, n_levels=15, shade=True);\n",
    "plt.title(\"Order day vs Order Hour\", fontsize=16)\n",
    "plt.xlabel(\"Hour of the Day\", fontsize=14)\n",
    "plt.ylabel(\"Day of the Week\", fontsize=14)\n",
    "plt.yticks([0,1,2,3,4,5,6],[\"Saturday\", \"Sunday\", \"Monday\", \"Tuesday\", \"Wednesday\", \"Thursday\", \"Friday\"])\n",
    "plt.show()"
   ]
  },
  {
   "cell_type": "markdown",
   "metadata": {},
   "source": [
    "## Alternate Continuous bivariate density of orders between day of the week and hour of the day"
   ]
  },
  {
   "cell_type": "code",
   "execution_count": 258,
   "metadata": {},
   "outputs": [
    {
     "name": "stdout",
     "output_type": "stream",
     "text": [
      "Order day vs Order Hour\n"
     ]
    },
    {
     "data": {
      "text/plain": [
       "<seaborn.axisgrid.JointGrid at 0x1a35992a90>"
      ]
     },
     "execution_count": 258,
     "metadata": {},
     "output_type": "execute_result"
    },
    {
     "data": {
      "image/png": "[encoded data removed]",
      "text/plain": [
       "<Figure size 432x432 with 3 Axes>"
      ]
     },
     "metadata": {},
     "output_type": "display_data"
    }
   ],
   "source": [
    "print(\"Order day vs Order Hour\")\n",
    "kde2 = sns.jointplot(x=\"order_hour_of_day\", y=\"order_dow\", data=smallset, kind=\"kde\", color=\"navy\")\n",
    "kde2.plot_joint(plt.scatter, c=\"w\", s=30, linewidth=1, marker=\"+\")\n",
    "kde2.ax_joint.collections[0].set_alpha(0)\n",
    "kde2.set_axis_labels(\"Hour of the Day (24 hr format)\", \"Day of the week\")"
   ]
  },
  {
   "cell_type": "markdown",
   "metadata": {},
   "source": [
    "## Frequency Distribution by days since prior order"
   ]
  },
  {
   "cell_type": "code",
   "execution_count": 321,
   "metadata": {},
   "outputs": [
    {
     "data": {
      "image/png": "[encoded data removed]",
      "text/plain": [
       "<Figure size 1296x576 with 1 Axes>"
      ]
     },
     "metadata": {},
     "output_type": "display_data"
    }
   ],
   "source": [
    "# Generating a dataframe with one column 'days_since_prior_order'\n",
    "prior_order = orders[['days_since_prior_order']].astype(np.int64) \n",
    "hist_count_plots(prior_order, \"days_since_prior_order\", \"Frequency Distribution by days since prior order\",\n",
    "                 \"Days since last order\", \"Number of Orders\", 2)"
   ]
  },
  {
   "cell_type": "markdown",
   "metadata": {},
   "source": [
    "## Alternate view of Frequency Density cross between days since prior order and the day of the week"
   ]
  },
  {
   "cell_type": "code",
   "execution_count": 259,
   "metadata": {},
   "outputs": [
    {
     "data": {
      "text/plain": [
       "<seaborn.axisgrid.JointGrid at 0x1a420be048>"
      ]
     },
     "execution_count": 259,
     "metadata": {},
     "output_type": "execute_result"
    },
    {
     "data": {
      "image/png": "[encoded data removed]",
      "text/plain": [
       "<Figure size 432x432 with 3 Axes>"
      ]
     },
     "metadata": {},
     "output_type": "display_data"
    }
   ],
   "source": [
    "kde3 = sns.jointplot(smallset.days_since_prior_order, smallset.order_dow, data=smallset, kind=\"kde\")\n",
    "kde3.set_axis_labels(\"Days since last order\", \"Day of the week\")"
   ]
  },
  {
   "cell_type": "markdown",
   "metadata": {},
   "source": [
    "## Combining our product_comb and order_prior data frames"
   ]
  },
  {
   "cell_type": "code",
   "execution_count": 35,
   "metadata": {},
   "outputs": [],
   "source": [
    "# Doing left joins on the products and the departments and the aisle by the department_id and aisle_id respectively\n",
    "product_prior = order_prior.set_index('product_id').join(product_comb, how=\"inner\")"
   ]
  },
  {
   "cell_type": "code",
   "execution_count": 36,
   "metadata": {},
   "outputs": [
    {
     "data": {
      "text/html": [
       "<div>\n",
       "<style scoped>\n",
       "    .dataframe tbody tr th:only-of-type {\n",
       "        vertical-align: middle;\n",
       "    }\n",
       "\n",
       "    .dataframe tbody tr th {\n",
       "        vertical-align: top;\n",
       "    }\n",
       "\n",
       "    .dataframe thead th {\n",
       "        text-align: right;\n",
       "    }\n",
       "</style>\n",
       "<table border=\"1\" class=\"dataframe\">\n",
       "  <thead>\n",
       "    <tr style=\"text-align: right;\">\n",
       "      <th></th>\n",
       "      <th>order_id</th>\n",
       "      <th>add_to_cart_order</th>\n",
       "      <th>reordered</th>\n",
       "      <th>aisle_id</th>\n",
       "      <th>department_id</th>\n",
       "      <th>product_name</th>\n",
       "      <th>department</th>\n",
       "      <th>aisle</th>\n",
       "    </tr>\n",
       "    <tr>\n",
       "      <th>product_id</th>\n",
       "      <th></th>\n",
       "      <th></th>\n",
       "      <th></th>\n",
       "      <th></th>\n",
       "      <th></th>\n",
       "      <th></th>\n",
       "      <th></th>\n",
       "      <th></th>\n",
       "    </tr>\n",
       "  </thead>\n",
       "  <tbody>\n",
       "    <tr>\n",
       "      <th>1</th>\n",
       "      <td>1107</td>\n",
       "      <td>7</td>\n",
       "      <td>0</td>\n",
       "      <td>61</td>\n",
       "      <td>19</td>\n",
       "      <td>Chocolate Sandwich Cookies</td>\n",
       "      <td>snacks</td>\n",
       "      <td>cookies cakes</td>\n",
       "    </tr>\n",
       "    <tr>\n",
       "      <th>1</th>\n",
       "      <td>5319</td>\n",
       "      <td>3</td>\n",
       "      <td>1</td>\n",
       "      <td>61</td>\n",
       "      <td>19</td>\n",
       "      <td>Chocolate Sandwich Cookies</td>\n",
       "      <td>snacks</td>\n",
       "      <td>cookies cakes</td>\n",
       "    </tr>\n",
       "    <tr>\n",
       "      <th>1</th>\n",
       "      <td>7540</td>\n",
       "      <td>4</td>\n",
       "      <td>1</td>\n",
       "      <td>61</td>\n",
       "      <td>19</td>\n",
       "      <td>Chocolate Sandwich Cookies</td>\n",
       "      <td>snacks</td>\n",
       "      <td>cookies cakes</td>\n",
       "    </tr>\n",
       "    <tr>\n",
       "      <th>1</th>\n",
       "      <td>9228</td>\n",
       "      <td>2</td>\n",
       "      <td>0</td>\n",
       "      <td>61</td>\n",
       "      <td>19</td>\n",
       "      <td>Chocolate Sandwich Cookies</td>\n",
       "      <td>snacks</td>\n",
       "      <td>cookies cakes</td>\n",
       "    </tr>\n",
       "    <tr>\n",
       "      <th>1</th>\n",
       "      <td>9273</td>\n",
       "      <td>30</td>\n",
       "      <td>0</td>\n",
       "      <td>61</td>\n",
       "      <td>19</td>\n",
       "      <td>Chocolate Sandwich Cookies</td>\n",
       "      <td>snacks</td>\n",
       "      <td>cookies cakes</td>\n",
       "    </tr>\n",
       "  </tbody>\n",
       "</table>\n",
       "</div>"
      ],
      "text/plain": [
       "            order_id  add_to_cart_order  reordered  aisle_id  department_id  \\\n",
       "product_id                                                                    \n",
       "1               1107                  7          0        61             19   \n",
       "1               5319                  3          1        61             19   \n",
       "1               7540                  4          1        61             19   \n",
       "1               9228                  2          0        61             19   \n",
       "1               9273                 30          0        61             19   \n",
       "\n",
       "                          product_name department          aisle  \n",
       "product_id                                                        \n",
       "1           Chocolate Sandwich Cookies     snacks  cookies cakes  \n",
       "1           Chocolate Sandwich Cookies     snacks  cookies cakes  \n",
       "1           Chocolate Sandwich Cookies     snacks  cookies cakes  \n",
       "1           Chocolate Sandwich Cookies     snacks  cookies cakes  \n",
       "1           Chocolate Sandwich Cookies     snacks  cookies cakes  "
      ]
     },
     "execution_count": 36,
     "metadata": {},
     "output_type": "execute_result"
    }
   ],
   "source": [
    "product_prior.head()"
   ]
  },
  {
   "cell_type": "markdown",
   "metadata": {},
   "source": [
    "## Grouping all the product orders by their departments\n",
    "And Generating a Order Frequency by Department bar chart"
   ]
  },
  {
   "cell_type": "code",
   "execution_count": 128,
   "metadata": {
    "scrolled": false
   },
   "outputs": [
    {
     "data": {
      "image/png": "[encoded data removed]",
      "text/plain": [
       "<Figure size 1296x576 with 1 Axes>"
      ]
     },
     "metadata": {},
     "output_type": "display_data"
    }
   ],
   "source": [
    "department_count_df = product_prior.groupby('department').department.count()\n",
    "department_count_df = department_count_df.to_frame()\n",
    "department_count_df = department_count_df.rename(columns={'department': 'Order_count'})\n",
    "department_count_df.sort_values(by='Order_count', ascending=False, inplace=True)\n",
    "bar_plot(department_count_df, \"Department\", \"Order count (x10 million)\", \"Order frequency for each department\")"
   ]
  },
  {
   "cell_type": "code",
   "execution_count": 129,
   "metadata": {},
   "outputs": [],
   "source": [
    "# Generating a percentage column for the order counts for each department\n",
    "department_count_df['% of total orders'] = (\n",
    "    department_count_df.Order_count / department_count_df.Order_count.sum())*100"
   ]
  },
  {
   "cell_type": "markdown",
   "metadata": {},
   "source": [
    "## Pie Chart showing top ten department breakdown"
   ]
  },
  {
   "cell_type": "code",
   "execution_count": 130,
   "metadata": {},
   "outputs": [
    {
     "data": {
      "image/png": "[encoded data removed]",
      "text/plain": [
       "<Figure size 432x288 with 1 Axes>"
      ]
     },
     "metadata": {},
     "output_type": "display_data"
    }
   ],
   "source": [
    "# Pie chart, where the slices will be ordered and plotted counter-clockwise:\n",
    "labels = department_count_df.index[:10]\n",
    "sizes = department_count_df.iloc[:10,1]\n",
    "explode = [ 0.1 for i in range(10) ] #(department_count_df.shape[0])]\n",
    "\n",
    "fig1, ax1 = plt.subplots()\n",
    "ax1.pie(sizes, explode=explode, labels=labels, autopct='%1.1f%%',\n",
    "        shadow=True, startangle=90)\n",
    "ax1.axis('equal')  # Equal aspect ratio ensures that pie is drawn as a circle.\n",
    "ax1.set_title(\"Order Breakdown by Department\", fontsize=20)\n",
    "\n",
    "plt.show()"
   ]
  },
  {
   "cell_type": "markdown",
   "metadata": {},
   "source": [
    "## Grouping all the products by the number of times they were ordered"
   ]
  },
  {
   "cell_type": "code",
   "execution_count": 39,
   "metadata": {},
   "outputs": [],
   "source": [
    "product_count_df = product_prior.groupby('product_name').product_name.count()\n",
    "product_count_df = product_count_df.to_frame()\n",
    "product_count_df = product_count_df.rename(columns={'product_name': 'Order_count'})"
   ]
  },
  {
   "cell_type": "code",
   "execution_count": 40,
   "metadata": {},
   "outputs": [
    {
     "data": {
      "text/html": [
       "<div>\n",
       "<style scoped>\n",
       "    .dataframe tbody tr th:only-of-type {\n",
       "        vertical-align: middle;\n",
       "    }\n",
       "\n",
       "    .dataframe tbody tr th {\n",
       "        vertical-align: top;\n",
       "    }\n",
       "\n",
       "    .dataframe thead th {\n",
       "        text-align: right;\n",
       "    }\n",
       "</style>\n",
       "<table border=\"1\" class=\"dataframe\">\n",
       "  <thead>\n",
       "    <tr style=\"text-align: right;\">\n",
       "      <th></th>\n",
       "      <th>Order_count</th>\n",
       "    </tr>\n",
       "  </thead>\n",
       "  <tbody>\n",
       "    <tr>\n",
       "      <th>count</th>\n",
       "      <td>49677.000000</td>\n",
       "    </tr>\n",
       "    <tr>\n",
       "      <th>mean</th>\n",
       "      <td>652.907563</td>\n",
       "    </tr>\n",
       "    <tr>\n",
       "      <th>std</th>\n",
       "      <td>4792.114416</td>\n",
       "    </tr>\n",
       "    <tr>\n",
       "      <th>min</th>\n",
       "      <td>1.000000</td>\n",
       "    </tr>\n",
       "    <tr>\n",
       "      <th>25%</th>\n",
       "      <td>17.000000</td>\n",
       "    </tr>\n",
       "    <tr>\n",
       "      <th>50%</th>\n",
       "      <td>60.000000</td>\n",
       "    </tr>\n",
       "    <tr>\n",
       "      <th>75%</th>\n",
       "      <td>260.000000</td>\n",
       "    </tr>\n",
       "    <tr>\n",
       "      <th>max</th>\n",
       "      <td>472565.000000</td>\n",
       "    </tr>\n",
       "  </tbody>\n",
       "</table>\n",
       "</div>"
      ],
      "text/plain": [
       "         Order_count\n",
       "count   49677.000000\n",
       "mean      652.907563\n",
       "std      4792.114416\n",
       "min         1.000000\n",
       "25%        17.000000\n",
       "50%        60.000000\n",
       "75%       260.000000\n",
       "max    472565.000000"
      ]
     },
     "execution_count": 40,
     "metadata": {},
     "output_type": "execute_result"
    }
   ],
   "source": [
    "product_count_df.describe()"
   ]
  },
  {
   "cell_type": "code",
   "execution_count": 49,
   "metadata": {},
   "outputs": [],
   "source": [
    "# sort the product_count_df dataframe by Order_count in a descending manner\n",
    "desc_product_count_df = product_count_df.sort_values(by=['Order_count'], ascending=False)"
   ]
  },
  {
   "cell_type": "markdown",
   "metadata": {},
   "source": [
    "## Top ten most ordered products"
   ]
  },
  {
   "cell_type": "code",
   "execution_count": 85,
   "metadata": {},
   "outputs": [
    {
     "data": {
      "text/html": [
       "<div>\n",
       "<style scoped>\n",
       "    .dataframe tbody tr th:only-of-type {\n",
       "        vertical-align: middle;\n",
       "    }\n",
       "\n",
       "    .dataframe tbody tr th {\n",
       "        vertical-align: top;\n",
       "    }\n",
       "\n",
       "    .dataframe thead th {\n",
       "        text-align: right;\n",
       "    }\n",
       "</style>\n",
       "<table border=\"1\" class=\"dataframe\">\n",
       "  <thead>\n",
       "    <tr style=\"text-align: right;\">\n",
       "      <th></th>\n",
       "      <th>Order_count</th>\n",
       "    </tr>\n",
       "    <tr>\n",
       "      <th>product_name</th>\n",
       "      <th></th>\n",
       "    </tr>\n",
       "  </thead>\n",
       "  <tbody>\n",
       "    <tr>\n",
       "      <th>Banana</th>\n",
       "      <td>472565</td>\n",
       "    </tr>\n",
       "    <tr>\n",
       "      <th>Bag of Organic Bananas</th>\n",
       "      <td>379450</td>\n",
       "    </tr>\n",
       "    <tr>\n",
       "      <th>Organic Strawberries</th>\n",
       "      <td>264683</td>\n",
       "    </tr>\n",
       "    <tr>\n",
       "      <th>Organic Baby Spinach</th>\n",
       "      <td>241921</td>\n",
       "    </tr>\n",
       "    <tr>\n",
       "      <th>Organic Hass Avocado</th>\n",
       "      <td>213584</td>\n",
       "    </tr>\n",
       "    <tr>\n",
       "      <th>Organic Avocado</th>\n",
       "      <td>176815</td>\n",
       "    </tr>\n",
       "    <tr>\n",
       "      <th>Large Lemon</th>\n",
       "      <td>152657</td>\n",
       "    </tr>\n",
       "    <tr>\n",
       "      <th>Strawberries</th>\n",
       "      <td>142951</td>\n",
       "    </tr>\n",
       "    <tr>\n",
       "      <th>Limes</th>\n",
       "      <td>140627</td>\n",
       "    </tr>\n",
       "    <tr>\n",
       "      <th>Organic Whole Milk</th>\n",
       "      <td>137905</td>\n",
       "    </tr>\n",
       "  </tbody>\n",
       "</table>\n",
       "</div>"
      ],
      "text/plain": [
       "                        Order_count\n",
       "product_name                       \n",
       "Banana                       472565\n",
       "Bag of Organic Bananas       379450\n",
       "Organic Strawberries         264683\n",
       "Organic Baby Spinach         241921\n",
       "Organic Hass Avocado         213584\n",
       "Organic Avocado              176815\n",
       "Large Lemon                  152657\n",
       "Strawberries                 142951\n",
       "Limes                        140627\n",
       "Organic Whole Milk           137905"
      ]
     },
     "execution_count": 85,
     "metadata": {},
     "output_type": "execute_result"
    }
   ],
   "source": [
    "desc_product_count_df.head(10)"
   ]
  },
  {
   "cell_type": "code",
   "execution_count": 93,
   "metadata": {},
   "outputs": [],
   "source": []
  }
 ],
 "metadata": {
  "kernelspec": {
   "display_name": "Python 3",
   "language": "python",
   "name": "python3"
  },
  "language_info": {
   "codemirror_mode": {
    "name": "ipython",
    "version": 3
   },
   "file_extension": ".py",
   "mimetype": "text/x-python",
   "name": "python",
   "nbconvert_exporter": "python",
   "pygments_lexer": "ipython3",
   "version": "3.6.5"
  }
 },
 "nbformat": 4,
 "nbformat_minor": 2
}
